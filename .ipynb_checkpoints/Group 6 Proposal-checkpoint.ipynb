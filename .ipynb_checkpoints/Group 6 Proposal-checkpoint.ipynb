{
 "cells": [
  {
   "cell_type": "markdown",
   "id": "85e7e7a8",
   "metadata": {},
   "source": [
    "# Group 6-Project-1 Proposal:\n",
    "\n",
    "## Title: Behind The Music \n",
    "### (Metrics for a Top Ten hit)\n",
    "\n",
    "## Team Members:\n",
    "### Daisy Kolosovskiy, Miguel Garcia, Adina Keshner, and Dave Alfonso\n",
    "\n",
    "## Outline:\n",
    "### Using .csv file from Kaggle, and Spotify API, we will explore the common metrics behind US Music Billboard Top Ten hits.  The purpose is to determine if there is a correlation between chart topping hits and measured metrics of beats-per-minute (bpm), energy (nrgy), decibels (db), and song duration (dur).  Taking data from US Billboard Top Ten hits from 2010 through 2019, we will look at the the measured metrics for the songs and see what these measured metrics show a common blend for creating a top ten hit. \n",
    "\n",
    "## Datasets:  \n",
    "###                    Kaggle Top 10 csv, Spotify API"
   ]
  },
  {
   "cell_type": "code",
   "execution_count": null,
   "id": "e740ecce",
   "metadata": {},
   "outputs": [],
   "source": []
  },
  {
   "cell_type": "code",
   "execution_count": null,
   "id": "e046c46b",
   "metadata": {},
   "outputs": [],
   "source": []
  }
 ],
 "metadata": {
  "kernelspec": {
   "display_name": "Python 3 (ipykernel)",
   "language": "python",
   "name": "python3"
  },
  "language_info": {
   "codemirror_mode": {
    "name": "ipython",
    "version": 3
   },
   "file_extension": ".py",
   "mimetype": "text/x-python",
   "name": "python",
   "nbconvert_exporter": "python",
   "pygments_lexer": "ipython3",
   "version": "3.9.13"
  }
 },
 "nbformat": 4,
 "nbformat_minor": 5
}
